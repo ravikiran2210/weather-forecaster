{
 "cells": [
  {
   "cell_type": "markdown",
   "metadata": {
    "id": "CtK7YiWMN36E"
   },
   "source": [
    "section - importing necessary libraries"
   ]
  },
  {
   "cell_type": "code",
   "execution_count": 1,
   "metadata": {
    "executionInfo": {
     "elapsed": 12,
     "status": "ok",
     "timestamp": 1742725593210,
     "user": {
      "displayName": "RAVI KIRAN",
      "userId": "11962123759039908620"
     },
     "user_tz": -330
    },
    "id": "nsslAxXTSvsK"
   },
   "outputs": [],
   "source": [
    "import requests\n",
    "import pandas as pd\n",
    "import numpy as np\n",
    "from sklearn.model_selection import train_test_split\n",
    "from sklearn.preprocessing import LabelEncoder\n",
    "from sklearn.ensemble import RandomForestClassifier,RandomForestRegressor\n",
    "from sklearn.metrics import mean_squared_error\n",
    "from datetime import datetime,timedelta\n",
    "import pytz"
   ]
  },
  {
   "cell_type": "code",
   "execution_count": 2,
   "metadata": {
    "executionInfo": {
     "elapsed": 18,
     "status": "ok",
     "timestamp": 1742721723772,
     "user": {
      "displayName": "RAVI KIRAN",
      "userId": "11962123759039908620"
     },
     "user_tz": -330
    },
    "id": "c1Xo3XuLTcZk"
   },
   "outputs": [],
   "source": [
    "API_KEY = '75926732325fd00c6922fa4365449e85'\n",
    "BASE_URL = 'https://api.openweathermap.org/data/2.5/'"
   ]
  },
  {
   "cell_type": "markdown",
   "metadata": {
    "id": "Rt6UE5BmT1Xs"
   },
   "source": [
    "1.Fetch current data."
   ]
  },
  {
   "cell_type": "code",
   "execution_count": 3,
   "metadata": {
    "executionInfo": {
     "elapsed": 4,
     "status": "ok",
     "timestamp": 1742727781330,
     "user": {
      "displayName": "RAVI KIRAN",
      "userId": "11962123759039908620"
     },
     "user_tz": -330
    },
    "id": "wGl-jromTywN"
   },
   "outputs": [],
   "source": [
    "def get_current_weather(city):\n",
    "  url = f\"{BASE_URL}weather?q={city}&appid={API_KEY}&units=metric\"\n",
    "  response = requests.get(url)\n",
    "  data = response.json()\n",
    "  return {\n",
    "      'city':data['name'],\n",
    "      'current_temp':round(data['main']['temp']),\n",
    "      'feels_like':round(data['main']['feels_like']),\n",
    "      'temp_min':round(data['main']['temp_min']),\n",
    "      'temp_max':round(data['main']['temp_max']),\n",
    "      'humidity':round(data['main']['humidity']),\n",
    "      'description':data['weather'][0]['description'],\n",
    "      'country':data['sys']['country'],\n",
    "      'wind_gust_dir':data['wind']['deg'],\n",
    "      'pressure':data['main']['pressure'],\n",
    "      'wind_gust_speed':data['wind']['speed']\n",
    "  }"
   ]
  },
  {
   "cell_type": "markdown",
   "metadata": {
    "id": "aLLrJvH-Vnz5"
   },
   "source": [
    "2. Read historical data."
   ]
  },
  {
   "cell_type": "code",
   "execution_count": 4,
   "metadata": {
    "executionInfo": {
     "elapsed": 7,
     "status": "ok",
     "timestamp": 1742727355093,
     "user": {
      "displayName": "RAVI KIRAN",
      "userId": "11962123759039908620"
     },
     "user_tz": -330
    },
    "id": "mFmokeOwVoRV"
   },
   "outputs": [],
   "source": [
    "def read_historical_data(filename):\n",
    "  df = pd.read_csv(filename)\n",
    "  df = df.dropna()\n",
    "  df = df.drop_duplicates()\n",
    "  return df"
   ]
  },
  {
   "cell_type": "markdown",
   "metadata": {
    "id": "fnXjSXhHWIT1"
   },
   "source": [
    "3. Prepare data for training."
   ]
  },
  {
   "cell_type": "code",
   "execution_count": 5,
   "metadata": {
    "executionInfo": {
     "elapsed": 7,
     "status": "ok",
     "timestamp": 1742727559710,
     "user": {
      "displayName": "RAVI KIRAN",
      "userId": "11962123759039908620"
     },
     "user_tz": -330
    },
    "id": "iDWjbNT9WLpd"
   },
   "outputs": [],
   "source": [
    "def prepare_data(data):\n",
    "  le = LabelEncoder()\n",
    "  data['WindGustDir'] = le.fit_transform(data['WindGustDir'])\n",
    "  data['RainTomorrow'] = le.fit_transform(data['RainTomorrow'])\n",
    "\n",
    "  x = data[['MinTemp','MaxTemp','WindGustDir','WindGustSpeed','Humidity','Pressure','Temp']]\n",
    "  y = data['RainTomorrow']\n",
    "\n",
    "  return x,y,le\n",
    "\n"
   ]
  },
  {
   "cell_type": "markdown",
   "metadata": {
    "id": "OqdlmUfrZA7K"
   },
   "source": [
    "4. Train rain prediction model."
   ]
  },
  {
   "cell_type": "code",
   "execution_count": 6,
   "metadata": {
    "executionInfo": {
     "elapsed": 19,
     "status": "ok",
     "timestamp": 1742723350711,
     "user": {
      "displayName": "RAVI KIRAN",
      "userId": "11962123759039908620"
     },
     "user_tz": -330
    },
    "id": "QIsp6AXEW4fU"
   },
   "outputs": [],
   "source": [
    "def train_rain_model(x,y):\n",
    "  x_train,x_test,y_train,y_test = train_test_split(x,y,test_size = 0.2,random_state = 42)\n",
    "  model = RandomForestClassifier(n_estimators=100,random_state=42)\n",
    "  model.fit(x_train,y_train)\n",
    "  y_pred = model.predict(x_test)\n",
    "  print(\"mean squared error for rain model\")\n",
    "  print(mean_squared_error(y_test,y_pred))\n",
    "  return model"
   ]
  },
  {
   "cell_type": "markdown",
   "metadata": {
    "id": "fpmmtbzpaL7i"
   },
   "source": [
    "5. Prepare regression data."
   ]
  },
  {
   "cell_type": "code",
   "execution_count": 7,
   "metadata": {
    "executionInfo": {
     "elapsed": 40,
     "status": "ok",
     "timestamp": 1742727977167,
     "user": {
      "displayName": "RAVI KIRAN",
      "userId": "11962123759039908620"
     },
     "user_tz": -330
    },
    "id": "BHwyZc43aOKN"
   },
   "outputs": [],
   "source": [
    "def prepare_regression_data(data,feature):\n",
    "  x,y = [],[]\n",
    "  for i in range(len(data)-1):\n",
    "    x.append(data[feature].iloc[i])\n",
    "    y.append(data[feature].iloc[i+1])\n",
    "  x = np.array(x).reshape(-1,1)\n",
    "  y = np.array(y)\n",
    "  return x,y"
   ]
  },
  {
   "cell_type": "markdown",
   "metadata": {
    "id": "2KHE8_3pbI6R"
   },
   "source": [
    "6. Train regression model."
   ]
  },
  {
   "cell_type": "code",
   "execution_count": 8,
   "metadata": {
    "executionInfo": {
     "elapsed": 56,
     "status": "ok",
     "timestamp": 1742723748173,
     "user": {
      "displayName": "RAVI KIRAN",
      "userId": "11962123759039908620"
     },
     "user_tz": -330
    },
    "id": "bylXRk6rbMwF"
   },
   "outputs": [],
   "source": [
    "def train_regression_model(x,y):\n",
    "  model = RandomForestRegressor(n_estimators=100,random_state=42)\n",
    "  model.fit(x,y)\n",
    "  return model"
   ]
  },
  {
   "cell_type": "markdown",
   "metadata": {
    "id": "_n78_mbcbhui"
   },
   "source": [
    "predict future."
   ]
  },
  {
   "cell_type": "code",
   "execution_count": 9,
   "metadata": {
    "executionInfo": {
     "elapsed": 44,
     "status": "ok",
     "timestamp": 1742728097756,
     "user": {
      "displayName": "RAVI KIRAN",
      "userId": "11962123759039908620"
     },
     "user_tz": -330
    },
    "id": "ajbS-8JrbjwR"
   },
   "outputs": [],
   "source": [
    "def predict_future(model,current_value):\n",
    "  predictions = [current_value]\n",
    "  for i in range(5):\n",
    "    next_value = model.predict(np.array([[predictions[-1]]]))\n",
    "    predictions.append(next_value[0])\n",
    "  return predictions[1:]"
   ]
  },
  {
   "cell_type": "markdown",
   "metadata": {
    "id": "w7RAsH3qcBav"
   },
   "source": [
    "weather analysis function."
   ]
  },
  {
   "cell_type": "code",
   "execution_count": 10,
   "metadata": {
    "colab": {
     "base_uri": "https://localhost:8080/"
    },
    "executionInfo": {
     "elapsed": 5386,
     "status": "ok",
     "timestamp": 1742728661722,
     "user": {
      "displayName": "RAVI KIRAN",
      "userId": "11962123759039908620"
     },
     "user_tz": -330
    },
    "id": "mEVXCmj6cDjJ",
    "outputId": "58fd84ab-9e92-4138-ded3-1991ff3fc2ca"
   },
   "outputs": [
    {
     "name": "stdout",
     "output_type": "stream",
     "text": [
      "mean squared error for rain model\n",
      "0.1506849315068493\n",
      "city:england,US\n",
      "current temperature:14°ca\n",
      "feels like:13°c\n",
      "minimum temperature:14°c\n",
      "maximum temperature:14°c\n",
      "humidity:67%\n",
      "weather prediction:overcast clouds\n",
      "rain prediction:no\n",
      "\n",
      "future temperature predictions:\n",
      "12:00:13.9°c\n",
      "13:00:15.8°c\n",
      "14:00:14.7°c\n",
      "15:00:12.4°c\n",
      "16:00:14.4°c\n",
      "\n",
      "future humidity predictions:\n",
      "12:00:33.1%\n",
      "13:00:25.1%\n",
      "14:00:20.1%\n",
      "15:00:16.6%\n",
      "16:00:14.4%\n"
     ]
    }
   ],
   "source": [
    " def weather_view():\n",
    "  city = input(\"enter city name:\")\n",
    "  current_weather = get_current_weather(city)\n",
    "  historical_data = read_historical_data('weather.csv')\n",
    "  x,y,le = prepare_data(historical_data)\n",
    "  rain_model = train_rain_model(x,y)\n",
    "  #map wind direction to campass points\n",
    "\n",
    "  wind_deg = current_weather['wind_gust_dir'] % 360\n",
    "\n",
    "  compass_points = [\n",
    "        (\"Ν\", 0, 11.25), (\"NNE\", 11.25, 33.75), (\"NE\", 33.75, 56.25),\n",
    "        (\"ENE\", 56.25, 78.75), (\"E\", 78.75, 101.25), (\"ESE\", 101.25, 123.75),\n",
    "        (\"SE\", 123.75, 146.25), (\"SSE\", 146.25, 168.75), (\"S\", 168.75, 191.25),\n",
    "        (\"SSW\", 191.25, 213.75), (\"SW\", 213.75, 236.25), (\"WSW\", 236.25, 258.75),\n",
    "        (\"W\", 258.75, 281.25), (\"WNW\", 281.25, 303.75), (\"N№\", 303.75, 326.25),\n",
    "        (\"N\", 326.25, 348.75)\n",
    "  ]\n",
    "\n",
    "  compass_direction = next(point for point, start, end in compass_points if start <= wind_deg < end)\n",
    "\n",
    "  compass_direction_encoded = le.transform([compass_direction])[0] if compass_direction in le.classes_ else -1\n",
    "\n",
    "  curr_data = {\n",
    "      'MinTemp':current_weather['temp_min'],\n",
    "      'MaxTemp':current_weather['temp_max'],\n",
    "      'WindGustDir':compass_direction_encoded,\n",
    "      'WindGustSpeed':current_weather['wind_gust_speed'],\n",
    "      'Humidity':current_weather['humidity'],\n",
    "      'Pressure':current_weather['pressure'],\n",
    "      'Temp':current_weather['current_temp'],\n",
    "  }\n",
    "\n",
    "  current_df = pd.DataFrame([curr_data])\n",
    "\n",
    "  rain_prediction = rain_model.predict(current_df)[0]\n",
    "\n",
    "  x_temp,y_temp = prepare_regression_data(historical_data,'Temp')\n",
    "\n",
    "  x_hum,y_hum = prepare_regression_data(historical_data,'Humidity')\n",
    "\n",
    "  temp_model = train_regression_model(x_temp,y_temp)\n",
    "\n",
    "  hum_model = train_regression_model(x_hum,y_hum)\n",
    "\n",
    "  future_temp = predict_future(temp_model,current_weather['temp_min'])\n",
    "\n",
    "  future_humidity = predict_future(temp_model,current_weather['humidity'])\n",
    "\n",
    "  timezone = pytz.timezone('Asia/Karachi')\n",
    "  now = datetime.now(timezone)\n",
    "  next_hour = now +timedelta(hours = 1)\n",
    "  next_hour = next_hour.replace(minute = 0,second = 0,microsecond = 0)\n",
    "  future_times = [(next_hour + timedelta(hours = i)).strftime(\"%H:00\")for i in range(5)]\n",
    "  print(f\"city:{city},{current_weather['country']}\")\n",
    "  print(f\"current temperature:{current_weather['current_temp']}°ca\")\n",
    "  print(f\"feels like:{current_weather['feels_like']}°c\")\n",
    "  print(f\"minimum temperature:{current_weather['temp_min']}°c\")\n",
    "  print(f\"maximum temperature:{current_weather['temp_max']}°c\")\n",
    "  print(f\"humidity:{current_weather['humidity']}%\")\n",
    "  print(f\"weather prediction:{current_weather['description']}\")\n",
    "  print(f\"rain prediction:{'yes' if rain_prediction else 'no'}\")\n",
    "\n",
    "  print(\"\\nfuture temperature predictions:\")\n",
    "  for time,temp in zip(future_times,future_temp):\n",
    "    print(f\"{time}:{round(temp,1)}°c\")\n",
    "\n",
    "  print(\"\\nfuture humidity predictions:\")\n",
    "  for time,humidity in zip(future_times,future_humidity):\n",
    "    print(f\"{time}:{round(humidity,1)}%\")\n",
    "weather_view()\n",
    "\n",
    "\n",
    "\n"
   ]
  }
 ],
 "metadata": {
  "colab": {
   "authorship_tag": "ABX9TyOsg12es67UwgKSfMLEYhis",
   "provenance": []
  },
  "kernelspec": {
   "display_name": "Python 3",
   "name": "python3"
  },
  "language_info": {
   "codemirror_mode": {
    "name": "ipython",
    "version": 3
   },
   "file_extension": ".py",
   "mimetype": "text/x-python",
   "name": "python",
   "nbconvert_exporter": "python",
   "pygments_lexer": "ipython3",
   "version": "3.12.9"
  }
 },
 "nbformat": 4,
 "nbformat_minor": 0
}
